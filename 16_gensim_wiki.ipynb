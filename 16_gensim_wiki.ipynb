{
  "nbformat": 4,
  "nbformat_minor": 0,
  "metadata": {
    "colab": {
      "provenance": [],
      "private_outputs": true,
      "machine_shape": "hm"
    },
    "kernelspec": {
      "name": "python3",
      "display_name": "Python 3"
    },
    "accelerator": "GPU"
  },
  "cells": [
    {
      "cell_type": "markdown",
      "metadata": {
        "id": "Ssk5BSNbelCF"
      },
      "source": [
        "# Word2Vec實作\n",
        "- 字詞所代表的意義非常多元，在不同狀況下，會代表不同意思。要把多元意思用單一向量表示，則必須要進行word embedding的動作，也就是把高維向量降為低維向量的過程\n",
        "- 之前介紹過，利用分散式表示法來表達字詞向量，例如PMI、SVD..統計法..等\n",
        "- 2013年神經網路盛行後，Tomas Mikolov利用神經網路訓練方式，來獲得字詞的表達向量，獲得很棒的成果。一般認為是利用神經網路模擬人類的理解能力，獲得不錯的分布空間所得到的成果。\n",
        "- 本範例以維基百科wiki部分資料作範例\n",
        "- 資料來源：https://dumps.wikimedia.org/zhwiki/20231201/zhwiki-20231201-pages-articles-multistream1.xml-p1p187712.bz2\n",
        "- 利用結巴分詞(jieba)進行斷詞，gensim套件進行word2vec計算\n",
        "- 本範例約需1小時長時間執行\n"
      ]
    },
    {
      "cell_type": "code",
      "source": [
        "!wget https://dumps.wikimedia.org/zhwiki/20240501/zhwiki-20240501-pages-articles-multistream1.xml-p1p187712.bz2 #運行下載命令"
      ],
      "metadata": {
        "id": "ylVzFulsmgzB"
      },
      "execution_count": null,
      "outputs": []
    },
    {
      "cell_type": "markdown",
      "source": [
        "### opencc是繁簡轉換工具"
      ],
      "metadata": {
        "id": "eMIti7ru3701"
      }
    },
    {
      "cell_type": "code",
      "metadata": {
        "id": "0Ta_qze2iHJi"
      },
      "source": [
        "!pip install opencc-python-reimplemented #安裝 opencc-python-reimplemented 庫"
      ],
      "execution_count": null,
      "outputs": []
    },
    {
      "cell_type": "markdown",
      "source": [
        "### gensim是訓練word2vec的函式庫"
      ],
      "metadata": {
        "id": "SQCWrmFJ4Mps"
      }
    },
    {
      "cell_type": "code",
      "metadata": {
        "id": "1BIoy7K5eqIS"
      },
      "source": [
        "from gensim.corpora import WikiCorpus #導入 WikiCorpus 類\n",
        "\n",
        "wiki_corpus = WikiCorpus('zhwiki-20240501-pages-articles-multistream1.xml-p1p187712.bz2', dictionary={}) #創建 WikiCorpus 實例"
      ],
      "execution_count": null,
      "outputs": []
    },
    {
      "cell_type": "code",
      "metadata": {
        "id": "0T7ZZpDr3Sg8"
      },
      "source": [
        "wiki_corpus #創建了 wiki_corpus"
      ],
      "execution_count": null,
      "outputs": []
    },
    {
      "cell_type": "code",
      "metadata": {
        "id": "KqX5g3Idsp-V"
      },
      "source": [
        "next(iter(wiki_corpus.get_texts()))[:10] #獲取語料庫中第一個文檔的前 10 個詞語"
      ],
      "execution_count": null,
      "outputs": []
    },
    {
      "cell_type": "markdown",
      "source": [
        "## 把wiki的資料檔案，轉換成連續文字的txt檔案"
      ],
      "metadata": {
        "id": "AjOTHZGR5nCE"
      }
    },
    {
      "cell_type": "code",
      "metadata": {
        "id": "AL99YGiSfhGu"
      },
      "source": [
        "text_num = 0\n",
        "\n",
        "with open('wiki_text.txt', 'w', encoding='utf-8') as f:\n",
        "    for text in wiki_corpus.get_texts():\n",
        "        f.write(' '.join(text)+'\\n')\n",
        "        text_num += 1\n",
        "        if text_num % 10000 == 0:\n",
        "            print('{} articles processed.'.format(text_num))\n",
        "\n",
        "    print('{} articles processed.'.format(text_num))# wiki_corpus.get_texts() 中獲取的每個文檔寫入到名為 wiki_text.txt 的文本文件"
      ],
      "execution_count": null,
      "outputs": []
    },
    {
      "cell_type": "code",
      "metadata": {
        "id": "FQ01OEi6szXr"
      },
      "source": [
        "import jieba\n",
        "from opencc import OpenCC\n",
        "\n",
        "\n",
        "# Initial\n",
        "cc = OpenCC('s2t') #創建一個 OpenCC 的實例\n",
        "train_data = open('wiki_text.txt', 'r', encoding='utf-8').read() #打開名為 wiki_text.txt 的文件，讀取其中的內容並將其賦值給變數 train_data\n",
        "train_data = cc.convert(train_data) #使用 OpenCC 庫將 train_data 中的文本從簡體中文轉換為繁體中文\n",
        "train_data = jieba.lcut(train_data) #使用 jieba 庫對文本進行分詞，將其拆分成一個詞語列表\n",
        "train_data = [word for word in train_data if word != ''] #過濾掉列表中的空字符串\n",
        "train_data = ' '.join(train_data) #將處理後的詞語列表重新組合為一個字串，詞語之間以空格分隔\n",
        "open('seg.txt', 'w', encoding='utf-8').write(train_data) #打開名為 seg.txt 的文件，將處理後的文本寫入其中。這樣就完成了繁體中文分詞和繁簡轉換的處理"
      ],
      "execution_count": null,
      "outputs": []
    },
    {
      "cell_type": "code",
      "metadata": {
        "id": "FXxRBbays3k0"
      },
      "source": [
        "from gensim.models import word2vec #導入 word2vec 模型\n",
        "\n",
        "\n",
        "# Settings\n",
        "seed = 666\n",
        "sg = 0\n",
        "window_size = 10\n",
        "#vector_size = 100\n",
        "min_count = 1\n",
        "workers = 8\n",
        "#epochs = 5\n",
        "batch_words = 10000\n",
        "\n",
        "train_data = word2vec.LineSentence('seg.txt') #用 word2vec.LineSentence 讀取包含分詞後文本的 seg.txt 文件\n",
        "model = word2vec.Word2Vec( #創建 Word2Vec 模型\n",
        "    train_data, #訓練數據，即分詞後的文本\n",
        "    min_count=min_count, #設置最小詞頻\n",
        "    #size=vector_size,\n",
        "    workers=workers, #設置用於訓練的線程數\n",
        "    #iter=epochs,\n",
        "    window=window_size, #設置用於訓練的線程數\n",
        "    sg=sg, #設置模型的訓練算法。如果 sg=0，則使用 CBOW 算法；如果 sg=1，則使用 Skip-gram 算法\n",
        "    seed=seed, #設置隨機種子，用於初始化模型參數的隨機數生成\n",
        "    batch_words=batch_words #設置每次訓練時使用的單詞數量\n",
        ")\n",
        "\n",
        "model.save('word2vec.model') #將訓練好的 Word2Vec 模型保存到名為 word2vec.model 的文件中"
      ],
      "execution_count": null,
      "outputs": []
    },
    {
      "cell_type": "code",
      "metadata": {
        "id": "1PovTacQs-R_"
      },
      "source": [
        "from gensim.models import word2vec\n",
        "\n",
        "string = '電腦' # 設置要查找的詞語\n",
        "model = word2vec.Word2Vec.load('word2vec.model') #加載訓練好的 Word2Vec 模型\n",
        "print(string) # 輸出要查找的詞語\n",
        "\n",
        "for item in model.wv.most_similar(string): # 查找與該詞語最相似的詞語並輸出\n",
        "    print(item)"
      ],
      "execution_count": null,
      "outputs": []
    },
    {
      "cell_type": "code",
      "metadata": {
        "id": "E235am9EVIuG"
      },
      "source": [],
      "execution_count": null,
      "outputs": []
    }
  ]
}